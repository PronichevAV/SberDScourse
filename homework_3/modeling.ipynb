{
 "cells": [
  {
   "cell_type": "markdown",
   "metadata": {
    "id": "pDrecLU-4QjS"
   },
   "source": [
    "# Практика\n",
    "Используемые библиотеки"
   ]
  },
  {
   "cell_type": "code",
   "execution_count": 12,
   "outputs": [
    {
     "name": "stdout",
     "output_type": "stream",
     "text": [
      "Defaulting to user installation because normal site-packages is not writeable\n",
      "Collecting word2number\n",
      "  Downloading word2number-1.1.zip (9.7 kB)\n",
      "  Preparing metadata (setup.py): started\n",
      "  Preparing metadata (setup.py): finished with status 'done'\n",
      "Building wheels for collected packages: word2number\n",
      "  Building wheel for word2number (setup.py): started\n",
      "  Building wheel for word2number (setup.py): finished with status 'done'\n",
      "  Created wheel for word2number: filename=word2number-1.1-py3-none-any.whl size=5586 sha256=c8b71c603b53198e0e5c063d520def08ea2210c8800b35a2ded01ff358736bfa\n",
      "  Stored in directory: c:\\users\\pronichevav\\appdata\\local\\pip\\cache\\wheels\\cb\\f3\\5a\\d88198fdeb46781ddd7e7f2653061af83e7adb2a076d8886d6\n",
      "Successfully built word2number\n",
      "Installing collected packages: word2number\n",
      "Successfully installed word2number-1.1\n"
     ]
    }
   ],
   "source": [
    "# !pip install word2number"
   ],
   "metadata": {
    "collapsed": false,
    "pycharm": {
     "name": "#%%\n"
    }
   }
  },
  {
   "cell_type": "code",
   "execution_count": 2,
   "metadata": {},
   "outputs": [],
   "source": [
    "import pandas as pd\n",
    "import random\n",
    "import numpy as np\n",
    "import requests\n",
    "import io\n",
    "import re"
   ]
  },
  {
   "cell_type": "markdown",
   "metadata": {},
   "source": [
    "## Загрузка DataFrame\n",
    "### Задача 1\n",
    "На основании данных портала \"Открытые данные России\" о результатах Химического анализа родника в Нескучном саду https://data.gov.ru/opendata/7708660670-rodnik-neskuchniy-sad\n",
    "средствами библиотеки __Pandas__ сформируйте поле выводов по каждому анализирумомому параметру.\n",
    "Например, по показателю _pH_ получен результат _8.4 единицы pH_ при нормативе от _6 до 9 единиц pH_. Т.о. по данному показателю результат анализа в норме.\n",
    "Для решения задачи необходимо программно \"прочитать и понять\" значение столбца \"Норматив\" и выделенное численное значение сравнить с нормативом согласно логике норматива. Например, __6 >= pH >= 9__.\n",
    "В итоговом DataFrame столбец \"Показатель\" сделайте индексным.\n",
    "\n",
    "\n",
    "Загзрузка DataFrame выполняется непосредственно c сайта \"Открытые данные России\" https://data.gov.ru/opendata/7708660670-rodnik-neskuchniy-sad/data-20160608T1215-structure-20160608T1215.csv (см. код ниже).\n"
   ]
  },
  {
   "cell_type": "code",
   "execution_count": 125,
   "metadata": {},
   "outputs": [
    {
     "data": {
      "text/plain": "                               Показатель Единица измерений  \\\n0                                      pH        единицы pH   \n1                                   Запах             баллы   \n2                               Цветность           градусы   \n3                               Жёсткость       мг-эквл/дм3   \n4         Аммиак и аммоний-ион (по азоту)            мг/дм3   \n5                        Нитриты (по NO2)            мг/дм3   \n6                        Нитраты (по NO3)            мг/дм3   \n7                             Фосфаты (P)            мг/дм3   \n8                            Хлориды (Cl)            мг/дм3   \n9                          Сульфаты (SO4)            мг/дм3   \n10  Железо (включая хлорное железо) по Fe            мг/дм3   \n11                                  Нефть            мг/дм3   \n12    Общая минерализация (сухой остаток)            мг/дм3   \n13            Окисляемость перманганатная            мг/дм3   \n\n    Результат анализа         Норматив  \n0                 8.4   в пределах 6-9  \n1                   1     не более 2-3  \n2             б/цвета      не более 30  \n3   9.199999999999999  в пределах 7-10  \n4                0.42     не более 1,5  \n5               0.017     не более 3,3  \n6                  24      не более 45  \n7                0.36     не более 3,5  \n8                 200     не более 350  \n9               189.5     не более 500  \n10              0.019     не более 0,3  \n11               0.55     не более 0,3  \n12                590    не более 1000  \n13                  2     не более 0,5  ",
      "text/html": "<div>\n<style scoped>\n    .dataframe tbody tr th:only-of-type {\n        vertical-align: middle;\n    }\n\n    .dataframe tbody tr th {\n        vertical-align: top;\n    }\n\n    .dataframe thead th {\n        text-align: right;\n    }\n</style>\n<table border=\"1\" class=\"dataframe\">\n  <thead>\n    <tr style=\"text-align: right;\">\n      <th></th>\n      <th>Показатель</th>\n      <th>Единица измерений</th>\n      <th>Результат анализа</th>\n      <th>Норматив</th>\n    </tr>\n  </thead>\n  <tbody>\n    <tr>\n      <th>0</th>\n      <td>pH</td>\n      <td>единицы pH</td>\n      <td>8.4</td>\n      <td>в пределах 6-9</td>\n    </tr>\n    <tr>\n      <th>1</th>\n      <td>Запах</td>\n      <td>баллы</td>\n      <td>1</td>\n      <td>не более 2-3</td>\n    </tr>\n    <tr>\n      <th>2</th>\n      <td>Цветность</td>\n      <td>градусы</td>\n      <td>б/цвета</td>\n      <td>не более 30</td>\n    </tr>\n    <tr>\n      <th>3</th>\n      <td>Жёсткость</td>\n      <td>мг-эквл/дм3</td>\n      <td>9.199999999999999</td>\n      <td>в пределах 7-10</td>\n    </tr>\n    <tr>\n      <th>4</th>\n      <td>Аммиак и аммоний-ион (по азоту)</td>\n      <td>мг/дм3</td>\n      <td>0.42</td>\n      <td>не более 1,5</td>\n    </tr>\n    <tr>\n      <th>5</th>\n      <td>Нитриты (по NO2)</td>\n      <td>мг/дм3</td>\n      <td>0.017</td>\n      <td>не более 3,3</td>\n    </tr>\n    <tr>\n      <th>6</th>\n      <td>Нитраты (по NO3)</td>\n      <td>мг/дм3</td>\n      <td>24</td>\n      <td>не более 45</td>\n    </tr>\n    <tr>\n      <th>7</th>\n      <td>Фосфаты (P)</td>\n      <td>мг/дм3</td>\n      <td>0.36</td>\n      <td>не более 3,5</td>\n    </tr>\n    <tr>\n      <th>8</th>\n      <td>Хлориды (Cl)</td>\n      <td>мг/дм3</td>\n      <td>200</td>\n      <td>не более 350</td>\n    </tr>\n    <tr>\n      <th>9</th>\n      <td>Сульфаты (SO4)</td>\n      <td>мг/дм3</td>\n      <td>189.5</td>\n      <td>не более 500</td>\n    </tr>\n    <tr>\n      <th>10</th>\n      <td>Железо (включая хлорное железо) по Fe</td>\n      <td>мг/дм3</td>\n      <td>0.019</td>\n      <td>не более 0,3</td>\n    </tr>\n    <tr>\n      <th>11</th>\n      <td>Нефть</td>\n      <td>мг/дм3</td>\n      <td>0.55</td>\n      <td>не более 0,3</td>\n    </tr>\n    <tr>\n      <th>12</th>\n      <td>Общая минерализация (сухой остаток)</td>\n      <td>мг/дм3</td>\n      <td>590</td>\n      <td>не более 1000</td>\n    </tr>\n    <tr>\n      <th>13</th>\n      <td>Окисляемость перманганатная</td>\n      <td>мг/дм3</td>\n      <td>2</td>\n      <td>не более 0,5</td>\n    </tr>\n  </tbody>\n</table>\n</div>"
     },
     "metadata": {},
     "output_type": "display_data"
    }
   ],
   "source": [
    "url =\"https://data.gov.ru/opendata/7708660670-rodnik-neskuchniy-sad/data-20160608T1215-structure-20160608T1215.csv\"\n",
    "s = requests.get(url).content\n",
    "df=pd.read_csv(io.StringIO(s.decode('UTF8')))\n",
    "display(df)"
   ]
  },
  {
   "cell_type": "code",
   "execution_count": 126,
   "metadata": {},
   "outputs": [
    {
     "name": "stdout",
     "output_type": "stream",
     "text": [
      "<class 'pandas.core.frame.DataFrame'>\n",
      "RangeIndex: 14 entries, 0 to 13\n",
      "Data columns (total 4 columns):\n",
      " #   Column             Non-Null Count  Dtype \n",
      "---  ------             --------------  ----- \n",
      " 0   Показатель         14 non-null     object\n",
      " 1   Единица измерений  14 non-null     object\n",
      " 2   Результат анализа  14 non-null     object\n",
      " 3   Норматив           14 non-null     object\n",
      "dtypes: object(4)\n",
      "memory usage: 576.0+ bytes\n"
     ]
    }
   ],
   "source": [
    "# Проверка типов данных\n",
    "df.info()"
   ]
  },
  {
   "cell_type": "code",
   "execution_count": 127,
   "outputs": [],
   "source": [
    "df['Результат анализа'] = df['Результат анализа'].apply(lambda x: x.replace(',', '.')) # Замена запятых на точки\n",
    "df['Результат анализа'] = df['Результат анализа'].apply(lambda x: re.findall(r'\\d+\\.\\d+|\\d+', x)) # Поиск чисел. Ожидается список с 1 элементом\n",
    "df['Результат анализа'] = df['Результат анализа'].apply(lambda x: float(x[0]) if len(x) == 1 else None) # Конвертация в формат float\\\n",
    "df['Результат анализа'] = df['Результат анализа'].fillna(0) # Заполнение единственного пропуска нулевым значением."
   ],
   "metadata": {
    "collapsed": false,
    "pycharm": {
     "name": "#%%\n"
    }
   }
  },
  {
   "cell_type": "markdown",
   "source": [
    "Единственное нечисловое значение столбца \"Реузльтат анализа\" в параметре \"Цветность\"\n",
    "\n",
    "Цветность — это интенсивность окраски воды из-за наличия цветения, органических соединений, трехвалентного железа. Чтобы определить цветность, образец воды сравнивают с эталоном — 1000 градусной шкалой образцов окраски.\n",
    "\n",
    "Таким образом, значение \"б/цвета\" интерпретируем как 0."
   ],
   "metadata": {
    "collapsed": false,
    "pycharm": {
     "name": "#%% md\n"
    }
   }
  },
  {
   "cell_type": "code",
   "execution_count": 129,
   "outputs": [],
   "source": [
    "def check_water(fact_value: float, norm_string: str) -> str:\n",
    "    norm_string = norm_string.replace(',', '.')\n",
    "    criteria = re.findall(r'не более|в пределах', norm_string)[0]\n",
    "    norm_values = list(map(float, re.findall(r'\\d+\\.\\d+|\\d+', norm_string)))\n",
    "    if criteria == 'не более':\n",
    "        if fact_value < max(norm_values):\n",
    "            return 'OK'\n",
    "        else:\n",
    "            return 'Нарушение'\n",
    "    elif criteria == 'в пределах':\n",
    "        if max(norm_values) >= fact_value >= min(norm_values):\n",
    "            return 'OK'\n",
    "        else:\n",
    "            return 'Нарушение'\n",
    "    else:\n",
    "        return None"
   ],
   "metadata": {
    "collapsed": false,
    "pycharm": {
     "name": "#%%\n"
    }
   }
  },
  {
   "cell_type": "code",
   "execution_count": 131,
   "outputs": [],
   "source": [
    "df['Вывод'] = df.apply(lambda x: check_water(x['Результат анализа'], x['Норматив']), axis=1)"
   ],
   "metadata": {
    "collapsed": false,
    "pycharm": {
     "name": "#%%\n"
    }
   }
  },
  {
   "cell_type": "code",
   "execution_count": 134,
   "outputs": [],
   "source": [
    "df.set_index(keys='Показатель', inplace=True)"
   ],
   "metadata": {
    "collapsed": false,
    "pycharm": {
     "name": "#%%\n"
    }
   }
  },
  {
   "cell_type": "code",
   "execution_count": 135,
   "outputs": [
    {
     "data": {
      "text/plain": "                                      Единица измерений  Результат анализа  \\\nПоказатель                                                                   \npH                                           единицы pH              8.400   \nЗапах                                             баллы              1.000   \nЦветность                                       градусы              0.000   \nЖёсткость                                   мг-эквл/дм3              9.200   \nАммиак и аммоний-ион (по азоту)                  мг/дм3              0.420   \nНитриты (по NO2)                                 мг/дм3              0.017   \nНитраты (по NO3)                                 мг/дм3             24.000   \nФосфаты (P)                                      мг/дм3              0.360   \nХлориды (Cl)                                     мг/дм3            200.000   \nСульфаты (SO4)                                   мг/дм3            189.500   \nЖелезо (включая хлорное железо) по Fe            мг/дм3              0.019   \nНефть                                            мг/дм3              0.550   \nОбщая минерализация (сухой остаток)              мг/дм3            590.000   \nОкисляемость перманганатная                      мг/дм3              2.000   \n\n                                              Норматив      Вывод  \nПоказатель                                                         \npH                                      в пределах 6-9         OK  \nЗапах                                     не более 2-3         OK  \nЦветность                                  не более 30         OK  \nЖёсткость                              в пределах 7-10         OK  \nАммиак и аммоний-ион (по азоту)           не более 1,5         OK  \nНитриты (по NO2)                          не более 3,3         OK  \nНитраты (по NO3)                           не более 45         OK  \nФосфаты (P)                               не более 3,5         OK  \nХлориды (Cl)                              не более 350         OK  \nСульфаты (SO4)                            не более 500         OK  \nЖелезо (включая хлорное железо) по Fe     не более 0,3         OK  \nНефть                                     не более 0,3  Нарушение  \nОбщая минерализация (сухой остаток)      не более 1000         OK  \nОкисляемость перманганатная               не более 0,5  Нарушение  ",
      "text/html": "<div>\n<style scoped>\n    .dataframe tbody tr th:only-of-type {\n        vertical-align: middle;\n    }\n\n    .dataframe tbody tr th {\n        vertical-align: top;\n    }\n\n    .dataframe thead th {\n        text-align: right;\n    }\n</style>\n<table border=\"1\" class=\"dataframe\">\n  <thead>\n    <tr style=\"text-align: right;\">\n      <th></th>\n      <th>Единица измерений</th>\n      <th>Результат анализа</th>\n      <th>Норматив</th>\n      <th>Вывод</th>\n    </tr>\n    <tr>\n      <th>Показатель</th>\n      <th></th>\n      <th></th>\n      <th></th>\n      <th></th>\n    </tr>\n  </thead>\n  <tbody>\n    <tr>\n      <th>pH</th>\n      <td>единицы pH</td>\n      <td>8.400</td>\n      <td>в пределах 6-9</td>\n      <td>OK</td>\n    </tr>\n    <tr>\n      <th>Запах</th>\n      <td>баллы</td>\n      <td>1.000</td>\n      <td>не более 2-3</td>\n      <td>OK</td>\n    </tr>\n    <tr>\n      <th>Цветность</th>\n      <td>градусы</td>\n      <td>0.000</td>\n      <td>не более 30</td>\n      <td>OK</td>\n    </tr>\n    <tr>\n      <th>Жёсткость</th>\n      <td>мг-эквл/дм3</td>\n      <td>9.200</td>\n      <td>в пределах 7-10</td>\n      <td>OK</td>\n    </tr>\n    <tr>\n      <th>Аммиак и аммоний-ион (по азоту)</th>\n      <td>мг/дм3</td>\n      <td>0.420</td>\n      <td>не более 1,5</td>\n      <td>OK</td>\n    </tr>\n    <tr>\n      <th>Нитриты (по NO2)</th>\n      <td>мг/дм3</td>\n      <td>0.017</td>\n      <td>не более 3,3</td>\n      <td>OK</td>\n    </tr>\n    <tr>\n      <th>Нитраты (по NO3)</th>\n      <td>мг/дм3</td>\n      <td>24.000</td>\n      <td>не более 45</td>\n      <td>OK</td>\n    </tr>\n    <tr>\n      <th>Фосфаты (P)</th>\n      <td>мг/дм3</td>\n      <td>0.360</td>\n      <td>не более 3,5</td>\n      <td>OK</td>\n    </tr>\n    <tr>\n      <th>Хлориды (Cl)</th>\n      <td>мг/дм3</td>\n      <td>200.000</td>\n      <td>не более 350</td>\n      <td>OK</td>\n    </tr>\n    <tr>\n      <th>Сульфаты (SO4)</th>\n      <td>мг/дм3</td>\n      <td>189.500</td>\n      <td>не более 500</td>\n      <td>OK</td>\n    </tr>\n    <tr>\n      <th>Железо (включая хлорное железо) по Fe</th>\n      <td>мг/дм3</td>\n      <td>0.019</td>\n      <td>не более 0,3</td>\n      <td>OK</td>\n    </tr>\n    <tr>\n      <th>Нефть</th>\n      <td>мг/дм3</td>\n      <td>0.550</td>\n      <td>не более 0,3</td>\n      <td>Нарушение</td>\n    </tr>\n    <tr>\n      <th>Общая минерализация (сухой остаток)</th>\n      <td>мг/дм3</td>\n      <td>590.000</td>\n      <td>не более 1000</td>\n      <td>OK</td>\n    </tr>\n    <tr>\n      <th>Окисляемость перманганатная</th>\n      <td>мг/дм3</td>\n      <td>2.000</td>\n      <td>не более 0,5</td>\n      <td>Нарушение</td>\n    </tr>\n  </tbody>\n</table>\n</div>"
     },
     "execution_count": 135,
     "metadata": {},
     "output_type": "execute_result"
    }
   ],
   "source": [
    "df"
   ],
   "metadata": {
    "collapsed": false,
    "pycharm": {
     "name": "#%%\n"
    }
   }
  },
  {
   "cell_type": "markdown",
   "metadata": {
    "id": "gUvTNDlMaV-a"
   },
   "source": [
    "## Теория вероятности. События\n",
    "\n",
    "Требуется сгенерировать необходимые выборки и произвести по ним расчеты"
   ]
  },
  {
   "cell_type": "markdown",
   "metadata": {
    "id": "t0XOMos2Tl0e"
   },
   "source": [
    "### Задача 2\n",
    "В ящике 5 апельсинов и 4 яблока. Наудачу выбираются 3 фрукта. Какова вероятность, что все три фрукта – апельсины?\n",
    "\n",
    "В интернете полученный аналитически ответ 0.119. Подтверждается ли он эксперементально?\n"
   ]
  },
  {
   "cell_type": "code",
   "execution_count": 14,
   "metadata": {
    "id": "o7NjAE9uUo-L"
   },
   "outputs": [
    {
     "name": "stdout",
     "output_type": "stream",
     "text": [
      "Количество успешных исходов: 119\n",
      "Количество попыток: 1000\n",
      "Вероятность успешного исхода: 0.119\n"
     ]
    }
   ],
   "source": [
    "fruits = ['apple'] * 4 + ['orange'] * 5\n",
    "random.shuffle(fruits)\n",
    "success_cases = 0\n",
    "total_cases = 1000\n",
    "\n",
    "for _ in range(total_cases):\n",
    "    chosen_fruits = random.sample(fruits, 3)\n",
    "    if len(set(chosen_fruits)) == 1 and chosen_fruits[0] == 'orange':\n",
    "        success_cases += 1\n",
    "print(f'Количество успешных исходов: {success_cases}')\n",
    "print(f'Количество попыток: {total_cases}')\n",
    "print(f'Вероятность успешного исхода: {round(success_cases/total_cases, 3)}')"
   ]
  },
  {
   "cell_type": "markdown",
   "source": [
    "Эксперимент подтвердил аналитическое решение"
   ],
   "metadata": {
    "collapsed": false,
    "pycharm": {
     "name": "#%% md\n"
    }
   }
  },
  {
   "cell_type": "markdown",
   "metadata": {
    "id": "g7A7QlvGTnwZ"
   },
   "source": [
    "### Задача 3\n",
    "Мастер, имея 10 деталей, из которых 3 – нестандартных, проверяет детали одну за другой, пока ему не попадется стандартная. Какова вероятность, что он проверит ровно две детали?\n",
    "\n",
    "\n",
    "В интернете полученный аналитически ответ 7/30 или 0.23333. Подтверждается ли он эксперементально?"
   ]
  },
  {
   "cell_type": "code",
   "execution_count": 32,
   "metadata": {},
   "outputs": [
    {
     "name": "stdout",
     "output_type": "stream",
     "text": [
      "Количество успешных исходов: 242\n",
      "Количество попыток: 1000\n",
      "Вероятность успешного исхода: 0.242\n"
     ]
    }
   ],
   "source": [
    "success_cases = 0\n",
    "total_cases = 1000\n",
    "\n",
    "for _ in range(total_cases):\n",
    "    details = ['standard'] * 7 + ['non-standard'] * 3\n",
    "    random.shuffle(details )\n",
    "    checked_detais = 0\n",
    "    while True:\n",
    "        current_indexes = list(range(len(details)))\n",
    "        current_detail = details.pop(random.choice(current_indexes))\n",
    "        checked_detais += 1\n",
    "        if current_detail == 'standard':\n",
    "            break\n",
    "    if checked_detais == 2:\n",
    "        success_cases += 1\n",
    "\n",
    "print(f'Количество успешных исходов: {success_cases}')\n",
    "print(f'Количество попыток: {total_cases}')\n",
    "print(f'Вероятность успешного исхода: {round(success_cases/total_cases, 3)}')"
   ]
  },
  {
   "cell_type": "markdown",
   "metadata": {
    "pycharm": {
     "name": "#%% md\n"
    }
   },
   "source": [
    "Эксперимент подтвердил аналитическое решение"
   ]
  },
  {
   "cell_type": "code",
   "execution_count": null,
   "outputs": [],
   "source": [],
   "metadata": {
    "collapsed": false,
    "pycharm": {
     "name": "#%%\n"
    }
   }
  }
 ],
 "metadata": {
  "celltoolbar": "Raw Cell Format",
  "colab": {
   "collapsed_sections": [],
   "name": "Практика к занятию 11.ipynb",
   "provenance": []
  },
  "kernelspec": {
   "display_name": "Python 3",
   "language": "python",
   "name": "python3"
  },
  "language_info": {
   "codemirror_mode": {
    "name": "ipython",
    "version": 3
   },
   "file_extension": ".py",
   "mimetype": "text/x-python",
   "name": "python",
   "nbconvert_exporter": "python",
   "pygments_lexer": "ipython3",
   "version": "3.8.5"
  }
 },
 "nbformat": 4,
 "nbformat_minor": 1
}