{
 "cells": [
  {
   "cell_type": "code",
   "execution_count": 1,
   "metadata": {},
   "outputs": [],
   "source": [
    "from sklearn.datasets import load_boston\n",
    "import pandas as pd\n",
    "import numpy as np\n",
    "from sklearn.model_selection import train_test_split, GridSearchCV, cross_validate\n",
    "from sklearn.linear_model import LinearRegression, Ridge, Lasso, RidgeCV, LassoCV, LogisticRegression\n",
    "from sklearn.svm import SVC, LinearSVC\n",
    "from sklearn.ensemble import RandomForestClassifier\n",
    "from catboost import CatBoostClassifier\n",
    "from sklearn.preprocessing import MinMaxScaler, StandardScaler, PolynomialFeatures, OneHotEncoder\n",
    "from sklearn.compose import ColumnTransformer\n",
    "from sklearn.pipeline import Pipeline\n",
    "from sklearn.impute import SimpleImputer\n",
    "from sklearn.metrics import accuracy_score, f1_score, make_scorer\n",
    "\n",
    "import warnings\n",
    "warnings.filterwarnings('ignore')"
   ]
  },
  {
   "cell_type": "code",
   "execution_count": 2,
   "metadata": {},
   "outputs": [],
   "source": [
    "RANDOM_STATE = 42"
   ]
  },
  {
   "cell_type": "code",
   "execution_count": 3,
   "metadata": {},
   "outputs": [],
   "source": [
    "dataset = load_boston()\n",
    "X = pd.DataFrame(dataset.data)\n",
    "X.columns = dataset.feature_names\n",
    "y = dataset.target"
   ]
  },
  {
   "cell_type": "markdown",
   "metadata": {},
   "source": [
    "1. Разделите выборку на обучающую и тестовую в отношении 80%/20%"
   ]
  },
  {
   "cell_type": "code",
   "execution_count": 4,
   "metadata": {},
   "outputs": [],
   "source": [
    "X_train, X_test, y_train, y_test = train_test_split(X, y, test_size=0.2, random_state=RANDOM_STATE)"
   ]
  },
  {
   "cell_type": "markdown",
   "metadata": {},
   "source": [
    "2. Обучите стандартную регрессию, а также Ridge и  Lasso и параметрами по умолчанию и выведите их R2 на тестовой выборке"
   ]
  },
  {
   "cell_type": "code",
   "execution_count": 5,
   "outputs": [
    {
     "data": {
      "text/plain": "                   R2-score\nLinear regression  0.668759\nLasso              0.667145\nRidge              0.666222",
      "text/html": "<div>\n<style scoped>\n    .dataframe tbody tr th:only-of-type {\n        vertical-align: middle;\n    }\n\n    .dataframe tbody tr th {\n        vertical-align: top;\n    }\n\n    .dataframe thead th {\n        text-align: right;\n    }\n</style>\n<table border=\"1\" class=\"dataframe\">\n  <thead>\n    <tr style=\"text-align: right;\">\n      <th></th>\n      <th>R2-score</th>\n    </tr>\n  </thead>\n  <tbody>\n    <tr>\n      <th>Linear regression</th>\n      <td>0.668759</td>\n    </tr>\n    <tr>\n      <th>Lasso</th>\n      <td>0.667145</td>\n    </tr>\n    <tr>\n      <th>Ridge</th>\n      <td>0.666222</td>\n    </tr>\n  </tbody>\n</table>\n</div>"
     },
     "execution_count": 5,
     "metadata": {},
     "output_type": "execute_result"
    }
   ],
   "source": [
    "models = {'Linear regression': LinearRegression(),\n",
    "          'Ridge': Ridge(),\n",
    "          'Lasso': Lasso()}\n",
    "metrics = {}\n",
    "\n",
    "for method, model in models.items():\n",
    "    model.fit(X_train, y_train)\n",
    "    metrics[method] = [model.score(X_test, y_test)]\n",
    "pd.DataFrame(metrics).T.rename(columns={0:'R2-score'}).sort_values(by='R2-score', ascending=False)"
   ],
   "metadata": {
    "collapsed": false,
    "pycharm": {
     "name": "#%%\n"
    }
   }
  },
  {
   "cell_type": "markdown",
   "metadata": {},
   "source": [
    "3. Для Ridge и Lasso подберите коэффициент регуляризации(используйте GridSearchCV, RidgeCV, LassoCV) в пределах от $10^{-5}$ до $10^5$ (по степеням 10). Посчитайте R2 на тестовой выборке по лучшим моделям и сравните с предыдущими результатами. Напишите как изменился результат"
   ]
  },
  {
   "cell_type": "code",
   "execution_count": 6,
   "metadata": {},
   "outputs": [
    {
     "data": {
      "text/plain": "                   R2-score\nLasso              0.668760\nLinear regression  0.668759\nRidge              0.668751",
      "text/html": "<div>\n<style scoped>\n    .dataframe tbody tr th:only-of-type {\n        vertical-align: middle;\n    }\n\n    .dataframe tbody tr th {\n        vertical-align: top;\n    }\n\n    .dataframe thead th {\n        text-align: right;\n    }\n</style>\n<table border=\"1\" class=\"dataframe\">\n  <thead>\n    <tr style=\"text-align: right;\">\n      <th></th>\n      <th>R2-score</th>\n    </tr>\n  </thead>\n  <tbody>\n    <tr>\n      <th>Lasso</th>\n      <td>0.668760</td>\n    </tr>\n    <tr>\n      <th>Linear regression</th>\n      <td>0.668759</td>\n    </tr>\n    <tr>\n      <th>Ridge</th>\n      <td>0.668751</td>\n    </tr>\n  </tbody>\n</table>\n</div>"
     },
     "execution_count": 6,
     "metadata": {},
     "output_type": "execute_result"
    }
   ],
   "source": [
    "alphas = np.array([10**i for i in range(-5, 6)])\n",
    "models = {'Linear regression': LinearRegression(),\n",
    "          'Ridge': RidgeCV(alphas=alphas),\n",
    "          'Lasso': LassoCV(alphas=alphas)}\n",
    "metrics = {}\n",
    "\n",
    "for method, model in models.items():\n",
    "    model.fit(X_train, y_train)\n",
    "    metrics[method] = [model.score(X_test, y_test)]\n",
    "pd.DataFrame(metrics).T.rename(columns={0:'R2-score'}).sort_values(by='R2-score', ascending=False)"
   ]
  },
  {
   "cell_type": "markdown",
   "source": [
    "Подбор коэффициента регуляризации привел к увеличению коэффициента детерминации для соответствующих моделей"
   ],
   "metadata": {
    "collapsed": false,
    "pycharm": {
     "name": "#%% md\n"
    }
   }
  },
  {
   "cell_type": "markdown",
   "metadata": {},
   "source": [
    "4. Проведите масштабирование выборки (используйте Pipeline, StandardScaler, MinMaxScaler), посчитайте R2 и сравните с предыдущими результатами. Напишите как изменился результат"
   ]
  },
  {
   "cell_type": "code",
   "execution_count": 7,
   "outputs": [
    {
     "data": {
      "text/plain": "                   R2-score\nLinear regression  0.668759\nRidge              0.668462\nLasso              0.623943",
      "text/html": "<div>\n<style scoped>\n    .dataframe tbody tr th:only-of-type {\n        vertical-align: middle;\n    }\n\n    .dataframe tbody tr th {\n        vertical-align: top;\n    }\n\n    .dataframe thead th {\n        text-align: right;\n    }\n</style>\n<table border=\"1\" class=\"dataframe\">\n  <thead>\n    <tr style=\"text-align: right;\">\n      <th></th>\n      <th>R2-score</th>\n    </tr>\n  </thead>\n  <tbody>\n    <tr>\n      <th>Linear regression</th>\n      <td>0.668759</td>\n    </tr>\n    <tr>\n      <th>Ridge</th>\n      <td>0.668462</td>\n    </tr>\n    <tr>\n      <th>Lasso</th>\n      <td>0.623943</td>\n    </tr>\n  </tbody>\n</table>\n</div>"
     },
     "execution_count": 7,
     "metadata": {},
     "output_type": "execute_result"
    }
   ],
   "source": [
    "# StandardScaler\n",
    "\n",
    "models = {'Linear regression': LinearRegression(),\n",
    "          'Ridge': Ridge(),\n",
    "          'Lasso': Lasso()}\n",
    "metrics = {}\n",
    "\n",
    "for method, model in models.items():\n",
    "    pipe = Pipeline([('StandardScaler', StandardScaler()), (method, model)])\n",
    "    pipe.fit(X_train, y_train)\n",
    "    metrics[method] = [pipe.score(X_test, y_test)]\n",
    "pd.DataFrame(metrics).T.rename(columns={0:'R2-score'}).sort_values(by='R2-score', ascending=False)"
   ],
   "metadata": {
    "collapsed": false,
    "pycharm": {
     "name": "#%%\n"
    }
   }
  },
  {
   "cell_type": "code",
   "execution_count": 8,
   "outputs": [
    {
     "data": {
      "text/plain": "                   R2-score\nRidge              0.676410\nLinear regression  0.668759\nLasso              0.257392",
      "text/html": "<div>\n<style scoped>\n    .dataframe tbody tr th:only-of-type {\n        vertical-align: middle;\n    }\n\n    .dataframe tbody tr th {\n        vertical-align: top;\n    }\n\n    .dataframe thead th {\n        text-align: right;\n    }\n</style>\n<table border=\"1\" class=\"dataframe\">\n  <thead>\n    <tr style=\"text-align: right;\">\n      <th></th>\n      <th>R2-score</th>\n    </tr>\n  </thead>\n  <tbody>\n    <tr>\n      <th>Ridge</th>\n      <td>0.676410</td>\n    </tr>\n    <tr>\n      <th>Linear regression</th>\n      <td>0.668759</td>\n    </tr>\n    <tr>\n      <th>Lasso</th>\n      <td>0.257392</td>\n    </tr>\n  </tbody>\n</table>\n</div>"
     },
     "execution_count": 8,
     "metadata": {},
     "output_type": "execute_result"
    }
   ],
   "source": [
    "# MinMaxScaler\n",
    "\n",
    "models = {'Linear regression': LinearRegression(),\n",
    "          'Ridge': Ridge(),\n",
    "          'Lasso': Lasso()}\n",
    "metrics = {}\n",
    "\n",
    "for method, model in models.items():\n",
    "    pipe = Pipeline([('MinMaxScaler', MinMaxScaler()), (method, model)])\n",
    "    pipe.fit(X_train, y_train)\n",
    "    metrics[method] = [pipe.score(X_test, y_test)]\n",
    "pd.DataFrame(metrics).T.rename(columns={0:'R2-score'}).sort_values(by='R2-score', ascending=False)"
   ],
   "metadata": {
    "collapsed": false,
    "pycharm": {
     "name": "#%%\n"
    }
   }
  },
  {
   "cell_type": "markdown",
   "source": [
    "Масштабирование признаков привело к росту метрики качества для обычной и Ridge регрессии, и снижению метрики в случау Lasso регрессии"
   ],
   "metadata": {
    "collapsed": false,
    "pycharm": {
     "name": "#%% md\n"
    }
   }
  },
  {
   "cell_type": "markdown",
   "metadata": {},
   "source": [
    "5. Подберите коэффициент регуляризации для Ridge и Lasso на масштабированных данных, посчитайте R2 и сравните с предыдущими результатами. Напишите как изменился результат"
   ]
  },
  {
   "cell_type": "code",
   "execution_count": 9,
   "metadata": {},
   "outputs": [
    {
     "data": {
      "text/plain": "                   R2-score\nLinear regression  0.668759\nLasso              0.668759\nRidge              0.665968",
      "text/html": "<div>\n<style scoped>\n    .dataframe tbody tr th:only-of-type {\n        vertical-align: middle;\n    }\n\n    .dataframe tbody tr th {\n        vertical-align: top;\n    }\n\n    .dataframe thead th {\n        text-align: right;\n    }\n</style>\n<table border=\"1\" class=\"dataframe\">\n  <thead>\n    <tr style=\"text-align: right;\">\n      <th></th>\n      <th>R2-score</th>\n    </tr>\n  </thead>\n  <tbody>\n    <tr>\n      <th>Linear regression</th>\n      <td>0.668759</td>\n    </tr>\n    <tr>\n      <th>Lasso</th>\n      <td>0.668759</td>\n    </tr>\n    <tr>\n      <th>Ridge</th>\n      <td>0.665968</td>\n    </tr>\n  </tbody>\n</table>\n</div>"
     },
     "execution_count": 9,
     "metadata": {},
     "output_type": "execute_result"
    }
   ],
   "source": [
    "# StandardScaler\n",
    "\n",
    "alphas = np.array([10**i for i in range(-5, 6)])\n",
    "models = {'Linear regression': LinearRegression(),\n",
    "          'Ridge': RidgeCV(alphas=alphas),\n",
    "          'Lasso': LassoCV(alphas=alphas)}\n",
    "metrics = {}\n",
    "\n",
    "for method, model in models.items():\n",
    "    pipe = Pipeline([('StandardScaler', StandardScaler()), (method, model)])\n",
    "    pipe.fit(X_train, y_train)\n",
    "    metrics[method] = [pipe.score(X_test, y_test)]\n",
    "pd.DataFrame(metrics).T.rename(columns={0:'R2-score'}).sort_values(by='R2-score', ascending=False)"
   ]
  },
  {
   "cell_type": "code",
   "execution_count": 10,
   "outputs": [
    {
     "data": {
      "text/plain": "                   R2-score\nRidge              0.670031\nLasso              0.668761\nLinear regression  0.668759",
      "text/html": "<div>\n<style scoped>\n    .dataframe tbody tr th:only-of-type {\n        vertical-align: middle;\n    }\n\n    .dataframe tbody tr th {\n        vertical-align: top;\n    }\n\n    .dataframe thead th {\n        text-align: right;\n    }\n</style>\n<table border=\"1\" class=\"dataframe\">\n  <thead>\n    <tr style=\"text-align: right;\">\n      <th></th>\n      <th>R2-score</th>\n    </tr>\n  </thead>\n  <tbody>\n    <tr>\n      <th>Ridge</th>\n      <td>0.670031</td>\n    </tr>\n    <tr>\n      <th>Lasso</th>\n      <td>0.668761</td>\n    </tr>\n    <tr>\n      <th>Linear regression</th>\n      <td>0.668759</td>\n    </tr>\n  </tbody>\n</table>\n</div>"
     },
     "execution_count": 10,
     "metadata": {},
     "output_type": "execute_result"
    }
   ],
   "source": [
    "# MinMaxScaler\n",
    "\n",
    "alphas = np.array([10**i for i in range(-5, 6)])\n",
    "models = {'Linear regression': LinearRegression(),\n",
    "          'Ridge': RidgeCV(alphas=alphas),\n",
    "          'Lasso': LassoCV(alphas=alphas)}\n",
    "metrics = {}\n",
    "\n",
    "for method, model in models.items():\n",
    "    pipe = Pipeline([('MinMaxScaler', MinMaxScaler()), (method, model)])\n",
    "    pipe.fit(X_train, y_train)\n",
    "    metrics[method] = [pipe.score(X_test, y_test)]\n",
    "pd.DataFrame(metrics).T.rename(columns={0:'R2-score'}).sort_values(by='R2-score', ascending=False)"
   ],
   "metadata": {
    "collapsed": false,
    "pycharm": {
     "name": "#%%\n"
    }
   }
  },
  {
   "cell_type": "markdown",
   "source": [
    "Масштабирование признаков совместно с подбором коэффициента регуляризации в общем случае привело к росту метрики качества"
   ],
   "metadata": {
    "collapsed": false,
    "pycharm": {
     "name": "#%% md\n"
    }
   }
  },
  {
   "cell_type": "markdown",
   "metadata": {},
   "source": [
    "6. Добавьте попарные произведения признаков и их квадраты (используйте PolynomialFeatures) на масштабированных признаках, посчитайте R2 и сравните с предыдущими результатами. Напишите как изменился результат"
   ]
  },
  {
   "cell_type": "code",
   "execution_count": 11,
   "metadata": {},
   "outputs": [
    {
     "data": {
      "text/plain": "                   R2-score\nRidge              0.847179\nLinear regression  0.805583\nLasso              0.685565",
      "text/html": "<div>\n<style scoped>\n    .dataframe tbody tr th:only-of-type {\n        vertical-align: middle;\n    }\n\n    .dataframe tbody tr th {\n        vertical-align: top;\n    }\n\n    .dataframe thead th {\n        text-align: right;\n    }\n</style>\n<table border=\"1\" class=\"dataframe\">\n  <thead>\n    <tr style=\"text-align: right;\">\n      <th></th>\n      <th>R2-score</th>\n    </tr>\n  </thead>\n  <tbody>\n    <tr>\n      <th>Ridge</th>\n      <td>0.847179</td>\n    </tr>\n    <tr>\n      <th>Linear regression</th>\n      <td>0.805583</td>\n    </tr>\n    <tr>\n      <th>Lasso</th>\n      <td>0.685565</td>\n    </tr>\n  </tbody>\n</table>\n</div>"
     },
     "execution_count": 11,
     "metadata": {},
     "output_type": "execute_result"
    }
   ],
   "source": [
    "# StandardScaler\n",
    "\n",
    "models = {'Linear regression': LinearRegression(),\n",
    "          'Ridge': Ridge(),\n",
    "          'Lasso': Lasso()}\n",
    "metrics = {}\n",
    "\n",
    "for method, model in models.items():\n",
    "    pipe = Pipeline([('PolynomialFeatures', PolynomialFeatures(2)), ('StandardScaler', StandardScaler()), (method, model)])\n",
    "    pipe.fit(X_train, y_train)\n",
    "    metrics[method] = [pipe.score(X_test, y_test)]\n",
    "pd.DataFrame(metrics).T.rename(columns={0:'R2-score'}).sort_values(by='R2-score', ascending=False)"
   ]
  },
  {
   "cell_type": "code",
   "execution_count": 12,
   "outputs": [
    {
     "data": {
      "text/plain": "                   R2-score\nLinear regression  0.805583\nRidge              0.798400\nLasso              0.267968",
      "text/html": "<div>\n<style scoped>\n    .dataframe tbody tr th:only-of-type {\n        vertical-align: middle;\n    }\n\n    .dataframe tbody tr th {\n        vertical-align: top;\n    }\n\n    .dataframe thead th {\n        text-align: right;\n    }\n</style>\n<table border=\"1\" class=\"dataframe\">\n  <thead>\n    <tr style=\"text-align: right;\">\n      <th></th>\n      <th>R2-score</th>\n    </tr>\n  </thead>\n  <tbody>\n    <tr>\n      <th>Linear regression</th>\n      <td>0.805583</td>\n    </tr>\n    <tr>\n      <th>Ridge</th>\n      <td>0.798400</td>\n    </tr>\n    <tr>\n      <th>Lasso</th>\n      <td>0.267968</td>\n    </tr>\n  </tbody>\n</table>\n</div>"
     },
     "execution_count": 12,
     "metadata": {},
     "output_type": "execute_result"
    }
   ],
   "source": [
    "# MinMaxScaler\n",
    "\n",
    "models = {'Linear regression': LinearRegression(),\n",
    "          'Ridge': Ridge(),\n",
    "          'Lasso': Lasso()}\n",
    "metrics = {}\n",
    "\n",
    "for method, model in models.items():\n",
    "    pipe = Pipeline([('PolynomialFeatures', PolynomialFeatures(2)), ('MinMaxScaler', MinMaxScaler()), (method, model)])\n",
    "    pipe.fit(X_train, y_train)\n",
    "    metrics[method] = [pipe.score(X_test, y_test)]\n",
    "pd.DataFrame(metrics).T.rename(columns={0:'R2-score'}).sort_values(by='R2-score', ascending=False)"
   ],
   "metadata": {
    "collapsed": false,
    "pycharm": {
     "name": "#%%\n"
    }
   }
  },
  {
   "cell_type": "markdown",
   "source": [
    "Добавление полиномиальных признаков в общес случае привело к росту R2-score, за исключением Lasso регрессии - требуется подбор коэффициента регуляризации"
   ],
   "metadata": {
    "collapsed": false,
    "pycharm": {
     "name": "#%% md\n"
    }
   }
  },
  {
   "cell_type": "markdown",
   "metadata": {},
   "source": [
    "7. Подберите наилучшую модель (используйте Pipeline, GridSearchSCV) подбирая тип регуляризации (L1,L2), коэффициент регуляризации, метод масштабирования и степень полинома в PolynomialFeatures. Выведите итоговые параметры и результат R2. Напишите как изменился R2 по сравнению с предыдущими экспериментами"
   ]
  },
  {
   "cell_type": "code",
   "execution_count": 13,
   "outputs": [],
   "source": [
    "# Не самый удачный способ\n",
    "alphas = np.array([10**i for i in range(-5, 6)])\n",
    "scalers = [('StandardScaler', StandardScaler()), ('MinMaxScaler', MinMaxScaler())]\n",
    "poly = [(f'PolynomialFeatures_{i}', PolynomialFeatures(i)) for i in range(1, 5)]\n",
    "models = [('Linear regression', LinearRegression()),\n",
    "          ('Ridge', RidgeCV(alphas=alphas)),\n",
    "          ('Lasso', LassoCV(alphas=alphas))]\n",
    "\n",
    "import itertools\n",
    "combinations = []\n",
    "for comb in itertools.combinations(itertools.chain(scalers, poly, models), 3):\n",
    "    counter_models = 0\n",
    "    counter_scalers = 0\n",
    "    counter_poly = 0\n",
    "    for element in comb:\n",
    "        if element in models:\n",
    "            counter_models += 1\n",
    "        elif element in scalers:\n",
    "            counter_scalers += 1\n",
    "        elif element in poly:\n",
    "            counter_poly += 1\n",
    "    if counter_poly == 1 and counter_models == 1 and counter_scalers== 1:\n",
    "        combinations.append(comb)"
   ],
   "metadata": {
    "collapsed": false,
    "pycharm": {
     "name": "#%%\n"
    }
   }
  },
  {
   "cell_type": "code",
   "execution_count": 14,
   "metadata": {},
   "outputs": [
    {
     "data": {
      "text/plain": "GridSearchCV(estimator=Pipeline(steps=(('StandardScaler', StandardScaler()),\n                                       ('PolynomialFeatures_1',\n                                        PolynomialFeatures(degree=1)),\n                                       ('Linear regression',\n                                        LinearRegression()))),\n             n_jobs=16,\n             param_grid={'steps': [(('StandardScaler', StandardScaler()),\n                                    ('PolynomialFeatures_1',\n                                     PolynomialFeatures(degree=1)),\n                                    ('Linear regression', LinearRegression())),\n                                   (('StandardScale...\n                                    ('PolynomialFeatures_4',\n                                     PolynomialFeatures(degree=4)),\n                                    ('Ridge',\n                                     RidgeCV(alphas=array([1.e-05, 1.e-04, 1.e-03, 1.e-02, 1.e-01, 1.e+00, 1.e+01, 1.e+02,\n       1.e+03, 1.e+04, 1.e+05])))),\n                                   (('MinMaxScaler', MinMaxScaler()),\n                                    ('PolynomialFeatures_4',\n                                     PolynomialFeatures(degree=4)),\n                                    ('Lasso',\n                                     LassoCV(alphas=array([1.e-05, 1.e-04, 1.e-03, 1.e-02, 1.e-01, 1.e+00, 1.e+01, 1.e+02,\n       1.e+03, 1.e+04, 1.e+05]))))]})"
     },
     "execution_count": 14,
     "metadata": {},
     "output_type": "execute_result"
    }
   ],
   "source": [
    "params = {'steps': combinations}\n",
    "model = GridSearchCV(estimator=Pipeline(steps=combinations[0]), param_grid=params, n_jobs=16)\n",
    "model.fit(X_train, y_train)"
   ]
  },
  {
   "cell_type": "code",
   "execution_count": 15,
   "outputs": [
    {
     "name": "stdout",
     "output_type": "stream",
     "text": [
      "Лучшая комбинация:\n",
      "1. Регуляризация: LassoCV(alphas=array([1.e-05, 1.e-04, 1.e-03, 1.e-02, 1.e-01, 1.e+00, 1.e+01, 1.e+02,\n",
      "       1.e+03, 1.e+04, 1.e+05]))\n",
      "2. Коэффициент регуляризации: 0.001\n",
      "3. Масштабирование: MinMaxScaler()\n",
      "4. Степень полинома: PolynomialFeatures(degree=3)\n",
      "\n",
      "R2-score: 0.8449734005131505\n"
     ]
    }
   ],
   "source": [
    "print(f'Лучшая комбинация:')\n",
    "print(f'1. Регуляризация: {model.best_estimator_[2]}')\n",
    "print(f'2. Коэффициент регуляризации: {model.best_estimator_[2].alpha_}')\n",
    "print(f'3. Масштабирование: {model.best_estimator_[0]}')\n",
    "print(f'4. Степень полинома: {model.best_estimator_[1]}')\n",
    "print(f'\\nR2-score: {model.score(X_test, y_test)}')"
   ],
   "metadata": {
    "collapsed": false,
    "pycharm": {
     "name": "#%%\n"
    }
   }
  },
  {
   "cell_type": "code",
   "execution_count": 16,
   "outputs": [
    {
     "data": {
      "text/plain": "GridSearchCV(estimator=Pipeline(steps=[('PolynomialFeatures',\n                                        PolynomialFeatures(degree=1)),\n                                       ('Scaler', StandardScaler()),\n                                       ('Regressor', LinearRegression())]),\n             n_jobs=16,\n             param_grid={'PolynomialFeatures__degree': [1, 2, 3, 4],\n                         'Regressor': [Ridge(), Lasso(alpha=0.001)],\n                         'Regressor__alpha': [0, 1e-05, 0.0001, 0.001, 0.01,\n                                              0.1, 1, 10, 100, 1000, 10000,\n                                              100000],\n                         'Scaler': [StandardScaler(), MinMaxScaler()]})"
     },
     "execution_count": 16,
     "metadata": {},
     "output_type": "execute_result"
    }
   ],
   "source": [
    "pipe = Pipeline(steps=[('PolynomialFeatures', PolynomialFeatures(degree=1)), ('Scaler', StandardScaler()), ('Regressor', LinearRegression())])\n",
    "\n",
    "scalers = [StandardScaler(), MinMaxScaler()]\n",
    "models = [Ridge(), Lasso()]\n",
    "\n",
    "params = {'Scaler': scalers,\n",
    "          'Regressor': models,\n",
    "          'PolynomialFeatures__degree': [1, 2, 3, 4],\n",
    "          'Regressor__alpha':  [0] + [10**i for i in range(-5, 6)],\n",
    "          }\n",
    "\n",
    "model = GridSearchCV(estimator=pipe, param_grid=params, n_jobs=16)\n",
    "model.fit(X_train, y_train)"
   ],
   "metadata": {
    "collapsed": false,
    "pycharm": {
     "name": "#%%\n"
    }
   }
  },
  {
   "cell_type": "code",
   "execution_count": 17,
   "outputs": [
    {
     "name": "stdout",
     "output_type": "stream",
     "text": [
      "Лучшая комбинация:\n",
      "1. Регуляризация: Lasso(alpha=0.001)\n",
      "2. Коэффициент регуляризации: 0.001\n",
      "3. Масштабирование: MinMaxScaler()\n",
      "4. Степень полинома: 3\n",
      "\n",
      "R2-score: 0.8651767295811961\n"
     ]
    }
   ],
   "source": [
    "print(f'Лучшая комбинация:')\n",
    "print(f'1. Регуляризация: {model.best_estimator_[2]}')\n",
    "print(f'2. Коэффициент регуляризации: {model.best_estimator_[2].alpha}')\n",
    "print(f'3. Масштабирование: {model.best_estimator_[1]}')\n",
    "print(f'4. Степень полинома: {model.best_estimator_[0].degree}')\n",
    "print(f'\\nR2-score: {model.score(X_test, y_test)}')"
   ],
   "metadata": {
    "collapsed": false,
    "pycharm": {
     "name": "#%%\n"
    }
   }
  },
  {
   "cell_type": "markdown",
   "source": [
    "В данном эксперименте наблюдается наибольший коэффициент детерминации."
   ],
   "metadata": {
    "collapsed": false,
    "pycharm": {
     "name": "#%% md\n"
    }
   }
  },
  {
   "cell_type": "markdown",
   "metadata": {},
   "source": [
    "http://archive.ics.uci.edu/ml/datasets/Adult"
   ]
  },
  {
   "cell_type": "code",
   "execution_count": 18,
   "metadata": {},
   "outputs": [],
   "source": [
    "link = 'https://raw.githubusercontent.com/jbrownlee/Datasets/master/adult-all.csv'\n",
    "data = pd.read_csv(link, header=None)"
   ]
  },
  {
   "cell_type": "code",
   "execution_count": 19,
   "metadata": {},
   "outputs": [
    {
     "data": {
      "text/plain": "   0                 1       2          3   4                   5   \\\n0  39         State-gov   77516  Bachelors  13       Never-married   \n1  50  Self-emp-not-inc   83311  Bachelors  13  Married-civ-spouse   \n2  38           Private  215646    HS-grad   9            Divorced   \n3  53           Private  234721       11th   7  Married-civ-spouse   \n4  28           Private  338409  Bachelors  13  Married-civ-spouse   \n\n                  6              7      8       9     10  11  12  \\\n0       Adm-clerical  Not-in-family  White    Male  2174   0  40   \n1    Exec-managerial        Husband  White    Male     0   0  13   \n2  Handlers-cleaners  Not-in-family  White    Male     0   0  40   \n3  Handlers-cleaners        Husband  Black    Male     0   0  40   \n4     Prof-specialty           Wife  Black  Female     0   0  40   \n\n              13     14  \n0  United-States  <=50K  \n1  United-States  <=50K  \n2  United-States  <=50K  \n3  United-States  <=50K  \n4           Cuba  <=50K  ",
      "text/html": "<div>\n<style scoped>\n    .dataframe tbody tr th:only-of-type {\n        vertical-align: middle;\n    }\n\n    .dataframe tbody tr th {\n        vertical-align: top;\n    }\n\n    .dataframe thead th {\n        text-align: right;\n    }\n</style>\n<table border=\"1\" class=\"dataframe\">\n  <thead>\n    <tr style=\"text-align: right;\">\n      <th></th>\n      <th>0</th>\n      <th>1</th>\n      <th>2</th>\n      <th>3</th>\n      <th>4</th>\n      <th>5</th>\n      <th>6</th>\n      <th>7</th>\n      <th>8</th>\n      <th>9</th>\n      <th>10</th>\n      <th>11</th>\n      <th>12</th>\n      <th>13</th>\n      <th>14</th>\n    </tr>\n  </thead>\n  <tbody>\n    <tr>\n      <th>0</th>\n      <td>39</td>\n      <td>State-gov</td>\n      <td>77516</td>\n      <td>Bachelors</td>\n      <td>13</td>\n      <td>Never-married</td>\n      <td>Adm-clerical</td>\n      <td>Not-in-family</td>\n      <td>White</td>\n      <td>Male</td>\n      <td>2174</td>\n      <td>0</td>\n      <td>40</td>\n      <td>United-States</td>\n      <td>&lt;=50K</td>\n    </tr>\n    <tr>\n      <th>1</th>\n      <td>50</td>\n      <td>Self-emp-not-inc</td>\n      <td>83311</td>\n      <td>Bachelors</td>\n      <td>13</td>\n      <td>Married-civ-spouse</td>\n      <td>Exec-managerial</td>\n      <td>Husband</td>\n      <td>White</td>\n      <td>Male</td>\n      <td>0</td>\n      <td>0</td>\n      <td>13</td>\n      <td>United-States</td>\n      <td>&lt;=50K</td>\n    </tr>\n    <tr>\n      <th>2</th>\n      <td>38</td>\n      <td>Private</td>\n      <td>215646</td>\n      <td>HS-grad</td>\n      <td>9</td>\n      <td>Divorced</td>\n      <td>Handlers-cleaners</td>\n      <td>Not-in-family</td>\n      <td>White</td>\n      <td>Male</td>\n      <td>0</td>\n      <td>0</td>\n      <td>40</td>\n      <td>United-States</td>\n      <td>&lt;=50K</td>\n    </tr>\n    <tr>\n      <th>3</th>\n      <td>53</td>\n      <td>Private</td>\n      <td>234721</td>\n      <td>11th</td>\n      <td>7</td>\n      <td>Married-civ-spouse</td>\n      <td>Handlers-cleaners</td>\n      <td>Husband</td>\n      <td>Black</td>\n      <td>Male</td>\n      <td>0</td>\n      <td>0</td>\n      <td>40</td>\n      <td>United-States</td>\n      <td>&lt;=50K</td>\n    </tr>\n    <tr>\n      <th>4</th>\n      <td>28</td>\n      <td>Private</td>\n      <td>338409</td>\n      <td>Bachelors</td>\n      <td>13</td>\n      <td>Married-civ-spouse</td>\n      <td>Prof-specialty</td>\n      <td>Wife</td>\n      <td>Black</td>\n      <td>Female</td>\n      <td>0</td>\n      <td>0</td>\n      <td>40</td>\n      <td>Cuba</td>\n      <td>&lt;=50K</td>\n    </tr>\n  </tbody>\n</table>\n</div>"
     },
     "execution_count": 19,
     "metadata": {},
     "output_type": "execute_result"
    }
   ],
   "source": [
    "data.head()"
   ]
  },
  {
   "cell_type": "markdown",
   "metadata": {},
   "source": [
    "8. Разделите выборку на признаки и целевую переменную(колонка со зачениями {<=50K,>50K}). Замените целевую переменную на числовые значения."
   ]
  },
  {
   "cell_type": "code",
   "execution_count": 20,
   "metadata": {},
   "outputs": [],
   "source": [
    "y = data[14].replace({'<=50K': 0, '>50K': 1})\n",
    "X = data.drop(columns=[14])"
   ]
  },
  {
   "cell_type": "markdown",
   "metadata": {},
   "source": [
    "9. Выясните, присутствуют ли в данных пропуски. Заполните их самыми частыми значениями (испольуйте SimpleImputer)"
   ]
  },
  {
   "cell_type": "code",
   "execution_count": 21,
   "outputs": [
    {
     "name": "stdout",
     "output_type": "stream",
     "text": [
      "<class 'pandas.core.frame.DataFrame'>\n",
      "RangeIndex: 48842 entries, 0 to 48841\n",
      "Data columns (total 14 columns):\n",
      " #   Column  Non-Null Count  Dtype \n",
      "---  ------  --------------  ----- \n",
      " 0   0       48842 non-null  int64 \n",
      " 1   1       48842 non-null  object\n",
      " 2   2       48842 non-null  int64 \n",
      " 3   3       48842 non-null  object\n",
      " 4   4       48842 non-null  int64 \n",
      " 5   5       48842 non-null  object\n",
      " 6   6       48842 non-null  object\n",
      " 7   7       48842 non-null  object\n",
      " 8   8       48842 non-null  object\n",
      " 9   9       48842 non-null  object\n",
      " 10  10      48842 non-null  int64 \n",
      " 11  11      48842 non-null  int64 \n",
      " 12  12      48842 non-null  int64 \n",
      " 13  13      48842 non-null  object\n",
      "dtypes: int64(6), object(8)\n",
      "memory usage: 5.2+ MB\n"
     ]
    }
   ],
   "source": [
    "# В явном виде пропусков не обнаружено\n",
    "X.info()"
   ],
   "metadata": {
    "collapsed": false,
    "pycharm": {
     "name": "#%%\n"
    }
   }
  },
  {
   "cell_type": "code",
   "execution_count": 22,
   "outputs": [
    {
     "data": {
      "text/plain": "array(['State-gov', 'Self-emp-not-inc', 'Private', 'Federal-gov',\n       'Local-gov', '?', 'Self-emp-inc', 'Without-pay', 'Never-worked'],\n      dtype=object)"
     },
     "execution_count": 22,
     "metadata": {},
     "output_type": "execute_result"
    }
   ],
   "source": [
    "# '?' считаем за пропуск\n",
    "X[1].unique()"
   ],
   "metadata": {
    "collapsed": false,
    "pycharm": {
     "name": "#%%\n"
    }
   }
  },
  {
   "cell_type": "code",
   "execution_count": 23,
   "outputs": [],
   "source": [
    "# Перевел шаг в pipeline\n",
    "\n",
    "# imp_freq = SimpleImputer(missing_values='?', strategy='most_frequent')\n",
    "# X = imp_freq.fit_transform(X)"
   ],
   "metadata": {
    "collapsed": false,
    "pycharm": {
     "name": "#%%\n"
    }
   }
  },
  {
   "cell_type": "markdown",
   "metadata": {},
   "source": [
    "10. Выберите колонки с числовыми и категориальными переменными."
   ]
  },
  {
   "cell_type": "code",
   "execution_count": 24,
   "metadata": {},
   "outputs": [],
   "source": [
    "numeric_features = []\n",
    "categorical_features = []\n",
    "for column in data.columns:\n",
    "    if column == 14:\n",
    "        continue\n",
    "    if data[column].dtype == np.dtype('int64'):\n",
    "        numeric_features.append(column)\n",
    "    elif data[column].dtype == np.dtype('object_'):\n",
    "        categorical_features.append(column)\n",
    "    else:\n",
    "        raise Exception('Check data types')"
   ]
  },
  {
   "cell_type": "markdown",
   "metadata": {},
   "source": [
    "11. Создайте пайплайн по обработке колонок(используйте OneHotEncoder,MinMaxScaler)."
   ]
  },
  {
   "cell_type": "code",
   "execution_count": 25,
   "metadata": {},
   "outputs": [],
   "source": [
    "preprocessor = ColumnTransformer(\n",
    "    transformers=[\n",
    "        (\"num\", MinMaxScaler(), numeric_features),\n",
    "        (\"cat\", OneHotEncoder(), categorical_features),\n",
    "    ]\n",
    ")"
   ]
  },
  {
   "cell_type": "markdown",
   "metadata": {},
   "source": [
    "12. Посчитайте метрики accuracy и f1_score на предсказании только самого частого класса в целевой переменной."
   ]
  },
  {
   "cell_type": "code",
   "execution_count": 26,
   "metadata": {},
   "outputs": [
    {
     "data": {
      "text/plain": "0    37155\n1    11687\nName: 14, dtype: int64"
     },
     "execution_count": 26,
     "metadata": {},
     "output_type": "execute_result"
    }
   ],
   "source": [
    "y.value_counts()\n",
    "#accuracy_score, f1_score"
   ]
  },
  {
   "cell_type": "code",
   "execution_count": 27,
   "outputs": [
    {
     "name": "stdout",
     "output_type": "stream",
     "text": [
      "Constant prediction\n",
      "Accuracy: 0.7607182343065395\n",
      "F1-score: 0.0\n"
     ]
    }
   ],
   "source": [
    "print('Constant prediction')\n",
    "print(f'Accuracy: {accuracy_score(y, np.array([0 for _ in range(len(y))]))}')\n",
    "print(f'F1-score: {f1_score(y, np.array([0 for _ in range(len(y))]))}')"
   ],
   "metadata": {
    "collapsed": false,
    "pycharm": {
     "name": "#%%\n"
    }
   }
  },
  {
   "cell_type": "markdown",
   "metadata": {},
   "source": [
    "13. Посчитайте cross_val_score по алгоритмам LogisticRegression, SVC, LinearSVC по метрикам accuracy и f1_score.\n",
    "Напишите удалось ли превзойти предыдущий результат."
   ]
  },
  {
   "cell_type": "code",
   "execution_count": 28,
   "metadata": {},
   "outputs": [
    {
     "name": "stdout",
     "output_type": "stream",
     "text": [
      "LogisticRegression\n",
      "Accuracy: 0.8497978649766191\n",
      "F1-score: 0.6540050902259514\n",
      "\n",
      "LinearSVC\n",
      "Accuracy: 0.8518196579730514\n",
      "F1-score: 0.656125117729116\n",
      "\n"
     ]
    }
   ],
   "source": [
    "models = {'LogisticRegression': LogisticRegression(),\n",
    "          #'SVC': SVC(),  # долгий расчет\n",
    "          'LinearSVC': LinearSVC()}\n",
    "for model_name, model in models.items():\n",
    "    res = cross_validate(estimator=Pipeline(steps=[('imputer', SimpleImputer(strategy='most_frequent')),\n",
    "                                                   ('preprocessor', preprocessor),\n",
    "                                                   ('clf', model)]),\n",
    "                         X=X,\n",
    "                         y=y,\n",
    "                         cv=5,\n",
    "                         scoring ={'accuracy': make_scorer(accuracy_score),\n",
    "                                   'f1': make_scorer(f1_score)})\n",
    "    print(model_name)\n",
    "    print(f\"Accuracy: {np.mean(res['test_accuracy'][~np.isnan(res['test_accuracy'])])}\")\n",
    "    print(f\"F1-score: {np.mean(res['test_f1'][~np.isnan(res['test_f1'])])}\\n\")"
   ]
  },
  {
   "cell_type": "markdown",
   "source": [
    "Модели показали лучший результат относительно константного предсказания"
   ],
   "metadata": {
    "collapsed": false,
    "pycharm": {
     "name": "#%% md\n"
    }
   }
  },
  {
   "cell_type": "markdown",
   "metadata": {},
   "source": [
    "14. Можно заметить что в данных присутствуют значения '?', замените их самыми частыми значениями (испольуйте SimpleImputer)"
   ]
  },
  {
   "cell_type": "code",
   "execution_count": 29,
   "metadata": {},
   "outputs": [],
   "source": [
    "imputer = SimpleImputer(missing_values='?', strategy='most_frequent')"
   ]
  },
  {
   "cell_type": "markdown",
   "metadata": {},
   "source": [
    "15. Посчитайте cross_val_score на новых данных. Напишите удалось ли улучшить результат."
   ]
  },
  {
   "cell_type": "code",
   "execution_count": 30,
   "metadata": {},
   "outputs": [
    {
     "name": "stdout",
     "output_type": "stream",
     "text": [
      "LogisticRegression\n",
      "Accuracy: 0.849593099052486\n",
      "F1-score: 0.6523707327202056\n",
      "\n",
      "LinearSVC\n",
      "Accuracy: 0.8505144461549927\n",
      "F1-score: 0.6505724715080432\n",
      "\n"
     ]
    }
   ],
   "source": [
    "models = {'LogisticRegression': LogisticRegression(),\n",
    "          #'SVC': SVC(),  # долгий расчет\n",
    "          'LinearSVC': LinearSVC()}\n",
    "for model_name, model in models.items():\n",
    "    res = cross_validate(estimator=Pipeline(steps=[('imputer', SimpleImputer(missing_values='?', strategy='most_frequent')),\n",
    "                                                   ('preprocessor', preprocessor),\n",
    "                                                   ('clf', model)]),\n",
    "                         X=X,\n",
    "                         y=y,\n",
    "                         cv=5,\n",
    "                         scoring ={'accuracy': make_scorer(accuracy_score),\n",
    "                                   'f1': make_scorer(f1_score)})\n",
    "    print(model_name)\n",
    "    print(f\"Accuracy: {np.mean(res['test_accuracy'][~np.isnan(res['test_accuracy'])])}\")\n",
    "    print(f\"F1-score: {np.mean(res['test_f1'][~np.isnan(res['test_f1'])])}\\n\")"
   ]
  },
  {
   "cell_type": "markdown",
   "source": [
    "Результат ухудшился"
   ],
   "metadata": {
    "collapsed": false,
    "pycharm": {
     "name": "#%% md\n"
    }
   }
  },
  {
   "cell_type": "markdown",
   "metadata": {},
   "source": [
    "16. Посчитайте cross_val_score, если просто удалить значения '?'. Напишите как изменился результат"
   ]
  },
  {
   "cell_type": "code",
   "execution_count": 31,
   "metadata": {},
   "outputs": [
    {
     "name": "stdout",
     "output_type": "stream",
     "text": [
      "LogisticRegression\n",
      "Accuracy: 0.849593099052486\n",
      "F1-score: 0.6523707327202056\n",
      "\n",
      "LinearSVC\n",
      "Accuracy: 0.8505144461549927\n",
      "F1-score: 0.6505724715080432\n",
      "\n"
     ]
    }
   ],
   "source": [
    "data = data.replace({'?', None}).dropna()\n",
    "y = data[14].replace({'<=50K': 0, '>50K': 1})\n",
    "X = data.drop(columns=[14])\n",
    "\n",
    "models = {'LogisticRegression': LogisticRegression(),\n",
    "          # SVC': SVC(),  # долгий расчет\n",
    "          'LinearSVC': LinearSVC()}\n",
    "for model_name, model in models.items():\n",
    "    res = cross_validate(estimator=Pipeline(steps=[('imputer', SimpleImputer(missing_values='?', strategy='most_frequent')),\n",
    "                                                   ('preprocessor', preprocessor),\n",
    "                                                   ('clf', model)]),\n",
    "                         X=X,\n",
    "                         y=y,\n",
    "                         cv=5,\n",
    "                         scoring ={'accuracy': make_scorer(accuracy_score),\n",
    "                                   'f1': make_scorer(f1_score)})\n",
    "    print(model_name)\n",
    "    print(f\"Accuracy: {np.mean(res['test_accuracy'][~np.isnan(res['test_accuracy'])])}\")\n",
    "    print(f\"F1-score: {np.mean(res['test_f1'][~np.isnan(res['test_f1'])])}\\n\")"
   ]
  },
  {
   "cell_type": "markdown",
   "source": [
    "Результат практически не изменился"
   ],
   "metadata": {
    "collapsed": false,
    "pycharm": {
     "name": "#%% md\n"
    }
   }
  },
  {
   "cell_type": "markdown",
   "metadata": {},
   "source": [
    " 17. Посчитайте cross_val_score для RandomForestClassifier,GradientBoostingClassifier. Напишите как изменился результат и какой вывод можно из этого сделать."
   ]
  },
  {
   "cell_type": "code",
   "execution_count": 32,
   "metadata": {},
   "outputs": [
    {
     "name": "stdout",
     "output_type": "stream",
     "text": [
      "RF\n",
      "Accuracy: 0.8504888078411469\n",
      "F1-score: 0.6640337734167814\n",
      "\n",
      "GBC\n",
      "Accuracy: 0.8724216334258303\n",
      "F1-score: 0.7095762338156018\n",
      "\n"
     ]
    }
   ],
   "source": [
    "data = pd.read_csv(link, header=None)\n",
    "y = data[14].replace({'<=50K': 0, '>50K': 1})\n",
    "X = data.drop(columns=[14])\n",
    "\n",
    "models = {'RF': RandomForestClassifier(n_jobs=16),\n",
    "          'GBC': CatBoostClassifier(thread_count=16, verbose=0)}\n",
    "for model_name, model in models.items():\n",
    "    res = cross_validate(estimator=Pipeline(steps=[('imputer', SimpleImputer(missing_values='?', strategy='most_frequent')),\n",
    "                                                   ('preprocessor', preprocessor),\n",
    "                                                   ('clf', model)]),\n",
    "                         X=X,\n",
    "                         y=y,\n",
    "                         cv=5,\n",
    "                         scoring ={'accuracy': make_scorer(accuracy_score),\n",
    "                                   'f1': make_scorer(f1_score)})\n",
    "    print(model_name)\n",
    "    print(f\"Accuracy: {np.mean(res['test_accuracy'][~np.isnan(res['test_accuracy'])])}\")\n",
    "    print(f\"F1-score: {np.mean(res['test_f1'][~np.isnan(res['test_f1'])])}\\n\")"
   ]
  },
  {
   "cell_type": "markdown",
   "source": [
    "Для рассмотренных алгоритмов метрики качества оказались выше. Причем модель градиентного бустинга на решающих деревьях показала себя лучше модели случайного леса. Возможно, для максимизации метрики качества оптимальнее использовать бустинговые модели (в ущерб интерпретируемости)."
   ],
   "metadata": {
    "collapsed": false,
    "pycharm": {
     "name": "#%% md\n"
    }
   }
  },
  {
   "cell_type": "markdown",
   "metadata": {},
   "source": [
    "18. Подберите наилучшую модель, подбирая методы обработки колонок - масштабирование признаков, кодирование признаков и заполнение пропусков. Параметры алгоритмов оставьте по умолчанию. Выведите итоговые параметры и результат accuracy и f1_score."
   ]
  },
  {
   "cell_type": "code",
   "execution_count": 36,
   "metadata": {},
   "outputs": [],
   "source": [
    "data = pd.read_csv(link, header=None)\n",
    "y = data[14].replace({'<=50K': 0, '>50K': 1})\n",
    "X = data.drop(columns=[14])\n",
    "\n",
    "categorical_transformer = Pipeline(steps=[('imputer', SimpleImputer(missing_values=np.nan, strategy='most_frequent')), ('OHE', OneHotEncoder())])\n",
    "preprocessor = ColumnTransformer(\n",
    "    transformers=[\n",
    "        (\"num\", MinMaxScaler(), numeric_features),\n",
    "        (\"cat\", categorical_transformer, categorical_features),\n",
    "    ]\n",
    ")\n",
    "\n",
    "pipe = Pipeline(steps=[('preprocessor', preprocessor), ('clf', LogisticRegression())])\n",
    "params = {\n",
    "    'preprocessor__cat__imputer__missing_values': [np.nan, '?'],\n",
    "    'preprocessor__num': [StandardScaler(), MinMaxScaler()],\n",
    "    'clf': [LogisticRegression(n_jobs=16), LinearSVC(), RandomForestClassifier(n_jobs=16), CatBoostClassifier(thread_count=16, verbose=False)]\n",
    "}"
   ]
  },
  {
   "cell_type": "code",
   "execution_count": 37,
   "outputs": [
    {
     "data": {
      "text/plain": "GridSearchCV(cv=5,\n             estimator=Pipeline(steps=[('preprocessor',\n                                        ColumnTransformer(transformers=[('num',\n                                                                         MinMaxScaler(),\n                                                                         [0, 2,\n                                                                          4, 10,\n                                                                          11,\n                                                                          12]),\n                                                                        ('cat',\n                                                                         Pipeline(steps=[('imputer',\n                                                                                          SimpleImputer(strategy='most_frequent')),\n                                                                                         ('OHE',\n                                                                                          OneHotEncoder())]),\n                                                                         [1, 3,\n                                                                          5, 6,\n                                                                          7, 8,\n                                                                          9,\n                                                                          13])])),\n                                       ('clf', LogisticRegression())]),\n             n_jobs=16,\n             param_grid={'clf': [LogisticRegression(n_jobs=16), LinearSVC(),\n                                 RandomForestClassifier(n_jobs=16),\n                                 <catboost.core.CatBoostClassifier object at 0x000001BEB92C1220>],\n                         'preprocessor__cat__imputer__missing_values': [nan,\n                                                                        '?'],\n                         'preprocessor__num': [StandardScaler(),\n                                               MinMaxScaler()]},\n             refit='f1',\n             scoring={'accuracy': make_scorer(accuracy_score),\n                      'f1': make_scorer(f1_score)})"
     },
     "execution_count": 37,
     "metadata": {},
     "output_type": "execute_result"
    }
   ],
   "source": [
    "model = GridSearchCV(estimator=pipe,\n",
    "                     param_grid=params,\n",
    "                     cv=5,\n",
    "                     n_jobs=16,\n",
    "                     scoring={'accuracy': make_scorer(accuracy_score),\n",
    "                              'f1': make_scorer(f1_score)},\n",
    "                     refit='f1'\n",
    "                     )\n",
    "model.fit(X, y)"
   ],
   "metadata": {
    "collapsed": false,
    "pycharm": {
     "name": "#%%\n"
    }
   }
  },
  {
   "cell_type": "code",
   "execution_count": 38,
   "outputs": [
    {
     "data": {
      "text/plain": "Pipeline(steps=[('preprocessor',\n                 ColumnTransformer(transformers=[('num', StandardScaler(),\n                                                  [0, 2, 4, 10, 11, 12]),\n                                                 ('cat',\n                                                  Pipeline(steps=[('imputer',\n                                                                   SimpleImputer(strategy='most_frequent')),\n                                                                  ('OHE',\n                                                                   OneHotEncoder())]),\n                                                  [1, 3, 5, 6, 7, 8, 9, 13])])),\n                ('clf', LogisticRegression(n_jobs=16))])"
     },
     "execution_count": 38,
     "metadata": {},
     "output_type": "execute_result"
    }
   ],
   "source": [
    "model.best_estimator_"
   ],
   "metadata": {
    "collapsed": false,
    "pycharm": {
     "name": "#%%\n"
    }
   }
  },
  {
   "cell_type": "code",
   "execution_count": 53,
   "outputs": [
    {
     "name": "stdout",
     "output_type": "stream",
     "text": [
      "Accuracy: 0.6589598754784799\n",
      "F1-score: 0.8512054309378754\n",
      "\n"
     ]
    }
   ],
   "source": [
    "f1_scores = np.array([model.cv_results_[f'split{i}_test_f1'][0] for i in range(5)])\n",
    "accuracy_scores = np.array([model.cv_results_[f'split{i}_test_accuracy'][0] for i in range(5)])\n",
    "print(f\"Accuracy: {np.mean(f1_scores[~np.isnan(f1_scores)])}\")\n",
    "print(f\"F1-score: {np.mean(accuracy_scores[~np.isnan(accuracy_scores)])}\\n\")"
   ],
   "metadata": {
    "collapsed": false,
    "pycharm": {
     "name": "#%%\n"
    }
   }
  }
 ],
 "metadata": {
  "kernelspec": {
   "name": "python3",
   "language": "python",
   "display_name": "Python 3 (ipykernel)"
  },
  "language_info": {
   "codemirror_mode": {
    "name": "ipython",
    "version": 3
   },
   "file_extension": ".py",
   "mimetype": "text/x-python",
   "name": "python",
   "nbconvert_exporter": "python",
   "pygments_lexer": "ipython3",
   "version": "3.7.6"
  }
 },
 "nbformat": 4,
 "nbformat_minor": 2
}